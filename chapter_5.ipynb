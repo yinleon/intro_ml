{
 "cells": [
  {
   "cell_type": "code",
   "execution_count": 16,
   "metadata": {
    "collapsed": true
   },
   "outputs": [],
   "source": [
    "%matplotlib inline\n",
    "import os\n",
    "import sys\n",
    "\n",
    "import numpy as np\n",
    "from scipy import sparse\n",
    "import matplotlib.pyplot as plt\n",
    "import pandas as pd\n",
    "\n",
    "import mglearn\n",
    "from sklearn.model_selection import train_test_split"
   ]
  },
  {
   "cell_type": "markdown",
   "metadata": {},
   "source": [
    "## Cross Validation\n",
    "Evaluates how well a model can generalize when trained on a specific [subset of a] dataset.<br>\n",
    "_k-fold cross validation_ data is split into k equal sized _folds_. <br>\n",
    "A model is iteratively tested using one of k folds and trained with the remaining folds.\n",
    "\n",
    "Benefits<br>\n",
    "Each sample is used to train the model once (IE not randomized).<br>\n",
    "Reveals how sensite the model is to training selection.<br>\n",
    "However it takes k-times slower to compute.\n",
    "\n",
    "Types:<br>\n",
    "1. <a href=\"#strat\">Stratifed K-fold</a>\n",
    "2. <a href=\"#loo\">Leave-one-out</a>\n",
    "3. <a href=\"#shuffle\">Shuffle-split</a>\n",
    "4. <a href=\"#group\">Groups</a>"
   ]
  },
  {
   "cell_type": "code",
   "execution_count": 2,
   "metadata": {
    "collapsed": false
   },
   "outputs": [
    {
     "data": {
      "image/png": "[encoded data removed]",
      "text/plain": [
       "<matplotlib.figure.Figure at 0x10374e6a0>"
      ]
     },
     "metadata": {},
     "output_type": "display_data"
    }
   ],
   "source": [
    "mglearn.plots.plot_cross_validation()"
   ]
  },
  {
   "cell_type": "code",
   "execution_count": 3,
   "metadata": {
    "collapsed": false
   },
   "outputs": [
    {
     "name": "stdout",
     "output_type": "stream",
     "text": [
      "Cross-validation scores: [ 0.96078431  0.92156863  0.95833333]\n"
     ]
    }
   ],
   "source": [
    "from sklearn.model_selection import cross_val_score\n",
    "from sklearn.datasets import load_iris\n",
    "from sklearn.linear_model import LogisticRegression\n",
    "\n",
    "iris = load_iris()\n",
    "logreg = LogisticRegression()\n",
    "\n",
    "scores = cross_val_score(logreg, iris.data, iris.target)\n",
    "print(\"Cross-validation scores: {}\".format(scores))"
   ]
  },
  {
   "cell_type": "markdown",
   "metadata": {},
   "source": [
    "cross_val_score refauls to 3 folds parameterized using cv"
   ]
  },
  {
   "cell_type": "code",
   "execution_count": 4,
   "metadata": {
    "collapsed": false
   },
   "outputs": [
    {
     "name": "stdout",
     "output_type": "stream",
     "text": [
      "Cross-validation scores: [ 1.          0.96666667  0.93333333  0.9         1.        ]\n"
     ]
    }
   ],
   "source": [
    "scores = cross_val_score(logreg, iris.data, iris.target, cv=5)\n",
    "print(\"Cross-validation scores: {}\".format(scores))"
   ]
  },
  {
   "cell_type": "code",
   "execution_count": 5,
   "metadata": {
    "collapsed": false
   },
   "outputs": [
    {
     "name": "stdout",
     "output_type": "stream",
     "text": [
      "Average cross-validation scores 0.96\n"
     ]
    }
   ],
   "source": [
    "print(\"Average cross-validation scores {:.2f}\".format(scores.mean()))"
   ]
  },
  {
   "cell_type": "markdown",
   "metadata": {},
   "source": [
    "The range of the five scores suggests either the model's dependency on a particular fold during training or a small dataset."
   ]
  },
  {
   "cell_type": "markdown",
   "metadata": {},
   "source": [
    "### Stratifed k-Fold Cross-Validation <a id=\"strat\"></a>\n",
    "k-folds does not re-order data:"
   ]
  },
  {
   "cell_type": "code",
   "execution_count": 6,
   "metadata": {
    "collapsed": false
   },
   "outputs": [
    {
     "name": "stdout",
     "output_type": "stream",
     "text": [
      "Iris labels:\n",
      "[0 0 0 0 0 0 0 0 0 0 0 0 0 0 0 0 0 0 0 0 0 0 0 0 0 0 0 0 0 0 0 0 0 0 0 0 0\n",
      " 0 0 0 0 0 0 0 0 0 0 0 0 0 1 1 1 1 1 1 1 1 1 1 1 1 1 1 1 1 1 1 1 1 1 1 1 1\n",
      " 1 1 1 1 1 1 1 1 1 1 1 1 1 1 1 1 1 1 1 1 1 1 1 1 1 1 2 2 2 2 2 2 2 2 2 2 2\n",
      " 2 2 2 2 2 2 2 2 2 2 2 2 2 2 2 2 2 2 2 2 2 2 2 2 2 2 2 2 2 2 2 2 2 2 2 2 2\n",
      " 2 2]\n"
     ]
    }
   ],
   "source": [
    "print(\"Iris labels:\\n{}\".format(iris.target))"
   ]
  },
  {
   "cell_type": "markdown",
   "metadata": {},
   "source": [
    "_Stratifed k-fold Cross-Validation_ splits the data proportionally between target classes for each fold."
   ]
  },
  {
   "cell_type": "code",
   "execution_count": 7,
   "metadata": {
    "collapsed": false
   },
   "outputs": [
    {
     "data": {
      "image/png": "[encoded data removed]",
      "text/plain": [
       "<matplotlib.figure.Figure at 0x11670deb8>"
      ]
     },
     "metadata": {},
     "output_type": "display_data"
    }
   ],
   "source": [
    "mglearn.plots.plot_stratified_cross_validation()"
   ]
  },
  {
   "cell_type": "markdown",
   "metadata": {},
   "source": [
    "### Getting fancy with how we split data\n",
    "by default, k-fold is used for reression and statified k-fold for classification.<br> <a id='fancy'></a>\n",
    "for explicit kfold for classification, we can explicitly import and pass kfold as the cv arg."
   ]
  },
  {
   "cell_type": "code",
   "execution_count": 8,
   "metadata": {
    "collapsed": false
   },
   "outputs": [
    {
     "name": "stdout",
     "output_type": "stream",
     "text": [
      "Cross-validation scores:\n",
      "[ 1.          0.93333333  0.43333333  0.96666667  0.43333333]\n"
     ]
    }
   ],
   "source": [
    "from sklearn.model_selection import KFold\n",
    "# no statification!\n",
    "kfold = KFold(n_splits=5)\n",
    "print(\"Cross-validation scores:\\n{}\".format(\n",
    "    cross_val_score(logreg, iris.data, iris.target, cv=kfold)))"
   ]
  },
  {
   "cell_type": "code",
   "execution_count": 37,
   "metadata": {
    "collapsed": false
   },
   "outputs": [
    {
     "name": "stdout",
     "output_type": "stream",
     "text": [
      "Cross-validation scores:\n",
      "[ 0.  0.  0.]\n"
     ]
    }
   ],
   "source": [
    "kfold = KFold(n_splits=3)\n",
    "print(\"Cross-validation scores:\\n{}\".format(\n",
    "    cross_val_score(logreg, iris.data, iris.target, cv=kfold)))"
   ]
  },
  {
   "cell_type": "markdown",
   "metadata": {},
   "source": [
    "### Leave-one-out <a id=\"loo\"></a>\n",
    "For smaller datasets, one data point can be a fold (like jackknife analysis)"
   ]
  },
  {
   "cell_type": "code",
   "execution_count": 10,
   "metadata": {
    "collapsed": false
   },
   "outputs": [
    {
     "name": "stdout",
     "output_type": "stream",
     "text": [
      "Number of cv iterations:  150\n",
      "Mean accuracy: 0.95\n"
     ]
    }
   ],
   "source": [
    "from sklearn.model_selection import LeaveOneOut\n",
    "loo = LeaveOneOut()\n",
    "scores = cross_val_score(logreg, iris.data, iris.target, cv=loo)\n",
    "print(\"Number of cv iterations: \",len(scores))\n",
    "print(\"Mean accuracy: {:.2f}\".format(scores.mean()))"
   ]
  },
  {
   "cell_type": "markdown",
   "metadata": {},
   "source": [
    "### Shuffle-split <a id=\"shuffle\"></a>\n",
    "Good to subsample a large dataset, as you have control over how the data is split and how many iterations you want.\n",
    "\n",
    "Splits samples into **test_size** and **train_size**- many points (integer or floating-point)\n",
    "**n_splits** interations."
   ]
  },
  {
   "cell_type": "code",
   "execution_count": 11,
   "metadata": {
    "collapsed": false
   },
   "outputs": [
    {
     "name": "stdout",
     "output_type": "stream",
     "text": [
      "Cross-validation scores:\n",
      "[ 0.86666667  0.90666667  0.93333333  0.97333333  0.92        0.92\n",
      "  0.89333333  0.98666667  0.93333333  0.97333333]\n"
     ]
    }
   ],
   "source": [
    "from sklearn.model_selection import ShuffleSplit\n",
    "shuffle_split = ShuffleSplit(test_size=.5, train_size=.5, n_splits=10)\n",
    "scores = cross_val_score(logreg, iris.data, iris.target, cv=shuffle_split)\n",
    "print(\"Cross-validation scores:\\n{}\".format(scores))"
   ]
  },
  {
   "cell_type": "code",
   "execution_count": 12,
   "metadata": {
    "collapsed": false
   },
   "outputs": [
    {
     "data": {
      "image/png": "[encoded data removed]",
      "text/plain": [
       "<matplotlib.figure.Figure at 0x11926fba8>"
      ]
     },
     "metadata": {},
     "output_type": "display_data"
    }
   ],
   "source": [
    "mglearn.plots.plot_shuffle_split()"
   ]
  },
  {
   "cell_type": "markdown",
   "metadata": {},
   "source": [
    "### Groups <a id=\"groups\"></a>\n",
    "Keep groups of highly related data together in training and testing.<br>\n",
    "This is easier for a classifer to detect changes on one group rather than changes across groups."
   ]
  },
  {
   "cell_type": "code",
   "execution_count": 13,
   "metadata": {
    "collapsed": false
   },
   "outputs": [
    {
     "name": "stdout",
     "output_type": "stream",
     "text": [
      "Cross-validation scores:\n",
      "[ 1.   0.8  1. ]\n"
     ]
    }
   ],
   "source": [
    "from sklearn.model_selection import GroupKFold\n",
    "from mglearn.make_blobs import make_blobs\n",
    "X, y = make_blobs(n_samples=12, random_state=0)\n",
    "# assume the first three samples belong to the same group.\n",
    "groups = [0,0,0,1,1,1,1,2,2,3,3,3]\n",
    "scores = cross_val_score(logreg, X, y, groups, cv=GroupKFold(n_splits=3))\n",
    "print(\"Cross-validation scores:\\n{}\".format(scores))"
   ]
  },
  {
   "cell_type": "code",
   "execution_count": 14,
   "metadata": {
    "collapsed": false
   },
   "outputs": [
    {
     "data": {
      "image/png": "[encoded data removed]",
      "text/plain": [
       "<matplotlib.figure.Figure at 0x119792a58>"
      ]
     },
     "metadata": {},
     "output_type": "display_data"
    }
   ],
   "source": [
    "mglearn.plots.plot_label_kfold()"
   ]
  },
  {
   "cell_type": "markdown",
   "metadata": {},
   "source": [
    "Each split contains the entirety of each group as a training or test set."
   ]
  },
  {
   "cell_type": "markdown",
   "metadata": {},
   "source": [
    "## Grid Search <a id=\"grid_search\"></a>\n",
    "Iteratively try every combination of parameters of interest.<br>\n",
    "We can apply the different cross-validation splits we just learned, to better generalize and optimize grid search.\n",
    "\n",
    "A special note here:<br>\n",
    "The test score doesn't necessarily carry over to new data, so let's also create a validation set.<br>\n",
    "All exploratory work (and visualization) should be performed on the training and validation set.<br>\n",
    "The test set must be reserved for the final evaluation, lest we leak info to the model!"
   ]
  },
  {
   "cell_type": "code",
   "execution_count": 15,
   "metadata": {
    "collapsed": false
   },
   "outputs": [
    {
     "data": {
      "image/png": "[encoded data removed]",
      "text/plain": [
       "<matplotlib.figure.Figure at 0x1167840b8>"
      ]
     },
     "metadata": {},
     "output_type": "display_data"
    }
   ],
   "source": [
    "mglearn.plots.plot_threefold_split()"
   ]
  },
  {
   "cell_type": "code",
   "execution_count": 19,
   "metadata": {
    "collapsed": false
   },
   "outputs": [
    {
     "name": "stdout",
     "output_type": "stream",
     "text": [
      "Size of training set: 84 size of validation set: 28 size of test set: 38\n",
      "\n",
      "Best score on validation set: 0.96\n",
      "Best params:  {'gamma': 0.001, 'C': 10}\n",
      "Test set score: 0.92\n"
     ]
    }
   ],
   "source": [
    "from sklearn.svm import SVC\n",
    "\n",
    "X_trainval, X_test, y_trainval, y_test = train_test_split(\n",
    "    iris.data, iris.target, random_state=0)\n",
    "X_train, X_valid, y_train, y_valid = train_test_split(\n",
    "    X_trainval, y_trainval, random_state=1)\n",
    "\n",
    "print(\"Size of training set: {} size of validation set: {} size of test set:\"\n",
    "      \" {}\\n\".format(X_train.shape[0], X_valid.shape[0], X_test.shape[0]))\n",
    "\n",
    "best_score = 0\n",
    "\n",
    "# 36 loops for all combos!\n",
    "for gamma in [0.001, 0.01, 0.1, 1, 10, 100]:\n",
    "    for C in [0.001, 0.01, 0.1, 1, 10, 100]:\n",
    "        # for each bombination of parameters, train the SVC\n",
    "        svm = SVC(gamma=gamma, C=C)\n",
    "        svm.fit(X_train, y_train)\n",
    "        score = svm.score(X_valid, y_valid)\n",
    "        \n",
    "        if score > best_score:\n",
    "            best_score = score\n",
    "            best_params = {'C': C, 'gamma': gamma}\n",
    "\n",
    "svm = SVC(**best_params)\n",
    "svm.fit(X_trainval, y_trainval)\n",
    "test_score = svm.score(X_test, y_test)\n",
    "print(\"Best score on validation set: {:.2f}\".format(best_score))\n",
    "print(\"Best params: \", best_params)\n",
    "print(\"Test set score: {:.2f}\".format(test_score))"
   ]
  },
  {
   "cell_type": "markdown",
   "metadata": {},
   "source": [
    "We see that .92 is actually how the model performs on new data and NOT 96!<br>\n",
    "\n",
    "Let's apply cross validation to better split the train and validation set.<br>\n",
    "Note that for each _fold_ the model takes param_combinations * n_folds times longer to train."
   ]
  },
  {
   "cell_type": "code",
   "execution_count": null,
   "metadata": {
    "collapsed": true
   },
   "outputs": [],
   "source": [
    "best_score = 0\n",
    "\n",
    "for gamma in [0.001, 0.01, 0.1, 1, 10, 100]:\n",
    "    for C in [0.001, 0.01, 0.1, 1, 10, 100]:\n",
    "        # for each bombination of parameters, train the SVC\n",
    "        svm = SVC(gamma=gamma, C=C)\n",
    "        scores = cross_val_score(svm, X_trainval, y_trainval, cv=5)\n",
    "        score = np.mean(scores)\n",
    "        \n",
    "        if score > best_score:\n",
    "            best_score = score\n",
    "            best_params = {'C': C, 'gamma': gamma}\n",
    "\n",
    "svm = SVC(**best_params)\n",
    "svm.fit(X_trainval, y_trainval)"
   ]
  },
  {
   "cell_type": "markdown",
   "metadata": {},
   "source": [
    "The process of param selection and model eval with GridSearchCV is as follows"
   ]
  },
  {
   "cell_type": "code",
   "execution_count": 20,
   "metadata": {
    "collapsed": false
   },
   "outputs": [
    {
     "data": {
      "image/png": "[encoded data removed]",
      "text/plain": [
       "<matplotlib.figure.Figure at 0x119a45780>"
      ]
     },
     "metadata": {},
     "output_type": "display_data"
    }
   ],
   "source": [
    "mglearn.plots.plot_grid_search_overview()"
   ]
  },
  {
   "cell_type": "markdown",
   "metadata": {},
   "source": [
    "### GridSearchCV, it exists!\n",
    "Scikit-Learn provides a grid search with cross validation when given a dictionary of param settings... wow!<br>\n",
    "Note: it's best to first try an extreme range in parameters."
   ]
  },
  {
   "cell_type": "code",
   "execution_count": 22,
   "metadata": {
    "collapsed": false
   },
   "outputs": [
    {
     "name": "stdout",
     "output_type": "stream",
     "text": [
      "Test set score: 0.97\n"
     ]
    }
   ],
   "source": [
    "from sklearn.model_selection import GridSearchCV\n",
    "from sklearn.svm import SVC\n",
    "\n",
    "param_grid = {\n",
    "    'C': [0.001, 0.01, 0.1, 1, 10, 100],\n",
    "    'gamma': [0.001, 0.01, 0.1, 1, 10, 100]\n",
    "}\n",
    "\n",
    "# Note GridSearchCVsplits training and validation set!\n",
    "# Also note it acts like a classifier (called a meta-estimator)\n",
    "grid_search = GridSearchCV(SVC(), param_grid, cv=5)\n",
    "\n",
    "X_train, X_test, y_train, y_test = train_test_split(\n",
    "    iris.data, iris.target, random_state=0)\n",
    "\n",
    "grid_search.fit(X_train, y_train)\n",
    "\n",
    "print(\"Test set score: {:.2f}\".format(grid_search.score(X_test, y_test)))"
   ]
  },
  {
   "cell_type": "markdown",
   "metadata": {},
   "source": [
    "the _best of_ from grid search is stored in the meta-estimator:"
   ]
  },
  {
   "cell_type": "code",
   "execution_count": 23,
   "metadata": {
    "collapsed": false
   },
   "outputs": [
    {
     "data": {
      "text/plain": [
       "{'C': 100, 'gamma': 0.01}"
      ]
     },
     "execution_count": 23,
     "metadata": {},
     "output_type": "execute_result"
    }
   ],
   "source": [
    "grid_search.best_params_"
   ]
  },
  {
   "cell_type": "code",
   "execution_count": 25,
   "metadata": {
    "collapsed": false
   },
   "outputs": [
    {
     "data": {
      "text/plain": [
       "0.9732142857142857"
      ]
     },
     "execution_count": 25,
     "metadata": {},
     "output_type": "execute_result"
    }
   ],
   "source": [
    "grid_search.best_score_"
   ]
  },
  {
   "cell_type": "code",
   "execution_count": 26,
   "metadata": {
    "collapsed": false
   },
   "outputs": [
    {
     "data": {
      "text/plain": [
       "SVC(C=100, cache_size=200, class_weight=None, coef0=0.0,\n",
       "  decision_function_shape=None, degree=3, gamma=0.01, kernel='rbf',\n",
       "  max_iter=-1, probability=False, random_state=None, shrinking=True,\n",
       "  tol=0.001, verbose=False)"
      ]
     },
     "execution_count": 26,
     "metadata": {},
     "output_type": "execute_result"
    }
   ],
   "source": [
    "grid_search.best_estimator_"
   ]
  },
  {
   "cell_type": "markdown",
   "metadata": {},
   "source": [
    "### How to we analyze the results of Grid Search cross-validation?"
   ]
  },
  {
   "cell_type": "code",
   "execution_count": 28,
   "metadata": {
    "collapsed": false
   },
   "outputs": [
    {
     "data": {
      "text/html": [
       "<div>\n",
       "<table border=\"1\" class=\"dataframe\">\n",
       "  <thead>\n",
       "    <tr style=\"text-align: right;\">\n",
       "      <th></th>\n",
       "      <th>mean_fit_time</th>\n",
       "      <th>mean_score_time</th>\n",
       "      <th>mean_test_score</th>\n",
       "      <th>mean_train_score</th>\n",
       "      <th>param_C</th>\n",
       "      <th>param_gamma</th>\n",
       "      <th>params</th>\n",
       "      <th>rank_test_score</th>\n",
       "      <th>split0_test_score</th>\n",
       "      <th>split0_train_score</th>\n",
       "      <th>...</th>\n",
       "      <th>split2_test_score</th>\n",
       "      <th>split2_train_score</th>\n",
       "      <th>split3_test_score</th>\n",
       "      <th>split3_train_score</th>\n",
       "      <th>split4_test_score</th>\n",
       "      <th>split4_train_score</th>\n",
       "      <th>std_fit_time</th>\n",
       "      <th>std_score_time</th>\n",
       "      <th>std_test_score</th>\n",
       "      <th>std_train_score</th>\n",
       "    </tr>\n",
       "  </thead>\n",
       "  <tbody>\n",
       "    <tr>\n",
       "      <th>0</th>\n",
       "      <td>0.001043</td>\n",
       "      <td>0.000492</td>\n",
       "      <td>0.366071</td>\n",
       "      <td>0.366079</td>\n",
       "      <td>0.001</td>\n",
       "      <td>0.001</td>\n",
       "      <td>{'gamma': 0.001, 'C': 0.001}</td>\n",
       "      <td>22</td>\n",
       "      <td>0.375</td>\n",
       "      <td>0.363636</td>\n",
       "      <td>...</td>\n",
       "      <td>0.363636</td>\n",
       "      <td>0.366667</td>\n",
       "      <td>0.363636</td>\n",
       "      <td>0.366667</td>\n",
       "      <td>0.380952</td>\n",
       "      <td>0.362637</td>\n",
       "      <td>0.000347</td>\n",
       "      <td>0.000151</td>\n",
       "      <td>0.011371</td>\n",
       "      <td>0.002852</td>\n",
       "    </tr>\n",
       "    <tr>\n",
       "      <th>1</th>\n",
       "      <td>0.001041</td>\n",
       "      <td>0.000418</td>\n",
       "      <td>0.366071</td>\n",
       "      <td>0.366079</td>\n",
       "      <td>0.001</td>\n",
       "      <td>0.01</td>\n",
       "      <td>{'gamma': 0.01, 'C': 0.001}</td>\n",
       "      <td>22</td>\n",
       "      <td>0.375</td>\n",
       "      <td>0.363636</td>\n",
       "      <td>...</td>\n",
       "      <td>0.363636</td>\n",
       "      <td>0.366667</td>\n",
       "      <td>0.363636</td>\n",
       "      <td>0.366667</td>\n",
       "      <td>0.380952</td>\n",
       "      <td>0.362637</td>\n",
       "      <td>0.000154</td>\n",
       "      <td>0.000098</td>\n",
       "      <td>0.011371</td>\n",
       "      <td>0.002852</td>\n",
       "    </tr>\n",
       "    <tr>\n",
       "      <th>2</th>\n",
       "      <td>0.001476</td>\n",
       "      <td>0.000830</td>\n",
       "      <td>0.366071</td>\n",
       "      <td>0.366079</td>\n",
       "      <td>0.001</td>\n",
       "      <td>0.1</td>\n",
       "      <td>{'gamma': 0.1, 'C': 0.001}</td>\n",
       "      <td>22</td>\n",
       "      <td>0.375</td>\n",
       "      <td>0.363636</td>\n",
       "      <td>...</td>\n",
       "      <td>0.363636</td>\n",
       "      <td>0.366667</td>\n",
       "      <td>0.363636</td>\n",
       "      <td>0.366667</td>\n",
       "      <td>0.380952</td>\n",
       "      <td>0.362637</td>\n",
       "      <td>0.000540</td>\n",
       "      <td>0.000506</td>\n",
       "      <td>0.011371</td>\n",
       "      <td>0.002852</td>\n",
       "    </tr>\n",
       "    <tr>\n",
       "      <th>3</th>\n",
       "      <td>0.001574</td>\n",
       "      <td>0.000912</td>\n",
       "      <td>0.366071</td>\n",
       "      <td>0.366079</td>\n",
       "      <td>0.001</td>\n",
       "      <td>1</td>\n",
       "      <td>{'gamma': 1, 'C': 0.001}</td>\n",
       "      <td>22</td>\n",
       "      <td>0.375</td>\n",
       "      <td>0.363636</td>\n",
       "      <td>...</td>\n",
       "      <td>0.363636</td>\n",
       "      <td>0.366667</td>\n",
       "      <td>0.363636</td>\n",
       "      <td>0.366667</td>\n",
       "      <td>0.380952</td>\n",
       "      <td>0.362637</td>\n",
       "      <td>0.000503</td>\n",
       "      <td>0.000535</td>\n",
       "      <td>0.011371</td>\n",
       "      <td>0.002852</td>\n",
       "    </tr>\n",
       "    <tr>\n",
       "      <th>4</th>\n",
       "      <td>0.001248</td>\n",
       "      <td>0.000587</td>\n",
       "      <td>0.366071</td>\n",
       "      <td>0.366079</td>\n",
       "      <td>0.001</td>\n",
       "      <td>10</td>\n",
       "      <td>{'gamma': 10, 'C': 0.001}</td>\n",
       "      <td>22</td>\n",
       "      <td>0.375</td>\n",
       "      <td>0.363636</td>\n",
       "      <td>...</td>\n",
       "      <td>0.363636</td>\n",
       "      <td>0.366667</td>\n",
       "      <td>0.363636</td>\n",
       "      <td>0.366667</td>\n",
       "      <td>0.380952</td>\n",
       "      <td>0.362637</td>\n",
       "      <td>0.000343</td>\n",
       "      <td>0.000231</td>\n",
       "      <td>0.011371</td>\n",
       "      <td>0.002852</td>\n",
       "    </tr>\n",
       "  </tbody>\n",
       "</table>\n",
       "<p>5 rows × 22 columns</p>\n",
       "</div>"
      ],
      "text/plain": [
       "   mean_fit_time  mean_score_time  mean_test_score  mean_train_score param_C  \\\n",
       "0       0.001043         0.000492         0.366071          0.366079   0.001   \n",
       "1       0.001041         0.000418         0.366071          0.366079   0.001   \n",
       "2       0.001476         0.000830         0.366071          0.366079   0.001   \n",
       "3       0.001574         0.000912         0.366071          0.366079   0.001   \n",
       "4       0.001248         0.000587         0.366071          0.366079   0.001   \n",
       "\n",
       "  param_gamma                        params  rank_test_score  \\\n",
       "0       0.001  {'gamma': 0.001, 'C': 0.001}               22   \n",
       "1        0.01   {'gamma': 0.01, 'C': 0.001}               22   \n",
       "2         0.1    {'gamma': 0.1, 'C': 0.001}               22   \n",
       "3           1      {'gamma': 1, 'C': 0.001}               22   \n",
       "4          10     {'gamma': 10, 'C': 0.001}               22   \n",
       "\n",
       "   split0_test_score  split0_train_score       ...         split2_test_score  \\\n",
       "0              0.375            0.363636       ...                  0.363636   \n",
       "1              0.375            0.363636       ...                  0.363636   \n",
       "2              0.375            0.363636       ...                  0.363636   \n",
       "3              0.375            0.363636       ...                  0.363636   \n",
       "4              0.375            0.363636       ...                  0.363636   \n",
       "\n",
       "   split2_train_score  split3_test_score  split3_train_score  \\\n",
       "0            0.366667           0.363636            0.366667   \n",
       "1            0.366667           0.363636            0.366667   \n",
       "2            0.366667           0.363636            0.366667   \n",
       "3            0.366667           0.363636            0.366667   \n",
       "4            0.366667           0.363636            0.366667   \n",
       "\n",
       "   split4_test_score  split4_train_score  std_fit_time  std_score_time  \\\n",
       "0           0.380952            0.362637      0.000347        0.000151   \n",
       "1           0.380952            0.362637      0.000154        0.000098   \n",
       "2           0.380952            0.362637      0.000540        0.000506   \n",
       "3           0.380952            0.362637      0.000503        0.000535   \n",
       "4           0.380952            0.362637      0.000343        0.000231   \n",
       "\n",
       "   std_test_score  std_train_score  \n",
       "0        0.011371         0.002852  \n",
       "1        0.011371         0.002852  \n",
       "2        0.011371         0.002852  \n",
       "3        0.011371         0.002852  \n",
       "4        0.011371         0.002852  \n",
       "\n",
       "[5 rows x 22 columns]"
      ]
     },
     "execution_count": 28,
     "metadata": {},
     "output_type": "execute_result"
    }
   ],
   "source": [
    "results = pd.DataFrame(grid_search.cv_results_)\n",
    "results.head()"
   ]
  },
  {
   "cell_type": "markdown",
   "metadata": {},
   "source": [
    "Let's visualize the performance of each parameter combo as a heatmap:"
   ]
  },
  {
   "cell_type": "code",
   "execution_count": 30,
   "metadata": {
    "collapsed": false
   },
   "outputs": [
    {
     "data": {
      "text/plain": [
       "<matplotlib.collections.PolyCollection at 0x119c05550>"
      ]
     },
     "execution_count": 30,
     "metadata": {},
     "output_type": "execute_result"
    },
    {
     "data": {
      "image/png": "[encoded data removed]",
      "text/plain": [
       "<matplotlib.figure.Figure at 0x119a45748>"
      ]
     },
     "metadata": {},
     "output_type": "display_data"
    }
   ],
   "source": [
    "scores = np.array(results.mean_test_score).reshape(6, 6)\n",
    "\n",
    "mglearn.tools.heatmap(scores, xlabel='gamma', xticklabels=param_grid['gamma'],\n",
    "                      ylabel='C', yticklabels=param_grid['C'], cmap='viridis')"
   ]
  },
  {
   "cell_type": "markdown",
   "metadata": {},
   "source": [
    "Common interpretatons of heatmap\n",
    "1. No changes: improper scaling, or one parameter is not important at all\n",
    "2. Vertical stripe: only one parameter makes any difference, or the other param is not looking at an interesting range.\n",
    "3. Large sections of boring: that param range of boring values should be excluded.\n",
    "\n",
    "### Getting fancy sing grid search\n",
    "kernels can be distinguished between <br>\n",
    "**linear** look at one paramater.<br>\n",
    "**rbf** look at specified parameters.\n",
    "\n",
    "GridSearchCV can take a list of dictioanries and<br>\n",
    "we can <a href=\"#fancy\">get fancy</a> about how we split data for cross validation by setting cv."
   ]
  },
  {
   "cell_type": "code",
   "execution_count": 36,
   "metadata": {
    "collapsed": false
   },
   "outputs": [
    {
     "name": "stdout",
     "output_type": "stream",
     "text": [
      "Best parameters: {'gamma': 0.01, 'kernel': 'rbf', 'C': 100}\n",
      "Best cross-validation score: 0.97\n"
     ]
    }
   ],
   "source": [
    "param_grid = [\n",
    "    {'kernel':['rbf'], \n",
    "     'C': [0.001, 0.01, 0.1, 1, 10, 100],\n",
    "     'gamma': [0.001, 0.01, 0.1, 1, 10, 100]},\n",
    "     {'kernel':['linear'], \n",
    "     'C': [0.001, 0.01, 0.1, 1, 10, 100]}\n",
    "]\n",
    "\n",
    "grid_search = GridSearchCV(SVC(), param_grid, cv=5, n_jobs=8)\n",
    "grid_search.fit(X_train, y_train)\n",
    "print(\"Best parameters: {}\".format(grid_search.best_params_))\n",
    "print(\"Best cross-validation score: {:.2f}\".format(grid_search.best_score_))"
   ]
  },
  {
   "cell_type": "code",
   "execution_count": 34,
   "metadata": {
    "collapsed": false
   },
   "outputs": [
    {
     "data": {
      "text/html": [
       "<div>\n",
       "<table border=\"1\" class=\"dataframe\">\n",
       "  <thead>\n",
       "    <tr style=\"text-align: right;\">\n",
       "      <th></th>\n",
       "      <th>0</th>\n",
       "      <th>1</th>\n",
       "      <th>2</th>\n",
       "      <th>3</th>\n",
       "      <th>4</th>\n",
       "      <th>5</th>\n",
       "      <th>6</th>\n",
       "      <th>7</th>\n",
       "      <th>8</th>\n",
       "      <th>9</th>\n",
       "      <th>...</th>\n",
       "      <th>32</th>\n",
       "      <th>33</th>\n",
       "      <th>34</th>\n",
       "      <th>35</th>\n",
       "      <th>36</th>\n",
       "      <th>37</th>\n",
       "      <th>38</th>\n",
       "      <th>39</th>\n",
       "      <th>40</th>\n",
       "      <th>41</th>\n",
       "    </tr>\n",
       "  </thead>\n",
       "  <tbody>\n",
       "    <tr>\n",
       "      <th>mean_fit_time</th>\n",
       "      <td>0.00235658</td>\n",
       "      <td>0.00168166</td>\n",
       "      <td>0.00213223</td>\n",
       "      <td>0.000602198</td>\n",
       "      <td>0.000619793</td>\n",
       "      <td>0.000767803</td>\n",
       "      <td>0.000641394</td>\n",
       "      <td>0.000581789</td>\n",
       "      <td>0.000600576</td>\n",
       "      <td>0.000608206</td>\n",
       "      <td>...</td>\n",
       "      <td>0.000354767</td>\n",
       "      <td>0.00058136</td>\n",
       "      <td>0.00102181</td>\n",
       "      <td>0.00124817</td>\n",
       "      <td>0.000542545</td>\n",
       "      <td>0.000431156</td>\n",
       "      <td>0.000355768</td>\n",
       "      <td>0.000337982</td>\n",
       "      <td>0.000378275</td>\n",
       "      <td>0.000432014</td>\n",
       "    </tr>\n",
       "    <tr>\n",
       "      <th>mean_score_time</th>\n",
       "      <td>0.000619841</td>\n",
       "      <td>0.000773621</td>\n",
       "      <td>0.000954819</td>\n",
       "      <td>0.000236607</td>\n",
       "      <td>0.000224018</td>\n",
       "      <td>0.0003232</td>\n",
       "      <td>0.000240993</td>\n",
       "      <td>0.000229549</td>\n",
       "      <td>0.000227022</td>\n",
       "      <td>0.000232601</td>\n",
       "      <td>...</td>\n",
       "      <td>0.000190067</td>\n",
       "      <td>0.000236607</td>\n",
       "      <td>0.000274801</td>\n",
       "      <td>0.000374651</td>\n",
       "      <td>0.000252247</td>\n",
       "      <td>0.000208378</td>\n",
       "      <td>0.000203466</td>\n",
       "      <td>0.000191212</td>\n",
       "      <td>0.000198126</td>\n",
       "      <td>0.000251961</td>\n",
       "    </tr>\n",
       "    <tr>\n",
       "      <th>mean_test_score</th>\n",
       "      <td>0.366071</td>\n",
       "      <td>0.366071</td>\n",
       "      <td>0.366071</td>\n",
       "      <td>0.366071</td>\n",
       "      <td>0.366071</td>\n",
       "      <td>0.366071</td>\n",
       "      <td>0.366071</td>\n",
       "      <td>0.366071</td>\n",
       "      <td>0.366071</td>\n",
       "      <td>0.366071</td>\n",
       "      <td>...</td>\n",
       "      <td>0.955357</td>\n",
       "      <td>0.946429</td>\n",
       "      <td>0.919643</td>\n",
       "      <td>0.5625</td>\n",
       "      <td>0.366071</td>\n",
       "      <td>0.848214</td>\n",
       "      <td>0.946429</td>\n",
       "      <td>0.973214</td>\n",
       "      <td>0.964286</td>\n",
       "      <td>0.964286</td>\n",
       "    </tr>\n",
       "    <tr>\n",
       "      <th>mean_train_score</th>\n",
       "      <td>0.366079</td>\n",
       "      <td>0.366079</td>\n",
       "      <td>0.366079</td>\n",
       "      <td>0.366079</td>\n",
       "      <td>0.366079</td>\n",
       "      <td>0.366079</td>\n",
       "      <td>0.366079</td>\n",
       "      <td>0.366079</td>\n",
       "      <td>0.366079</td>\n",
       "      <td>0.366079</td>\n",
       "      <td>...</td>\n",
       "      <td>0.988788</td>\n",
       "      <td>1</td>\n",
       "      <td>1</td>\n",
       "      <td>1</td>\n",
       "      <td>0.366079</td>\n",
       "      <td>0.855069</td>\n",
       "      <td>0.966538</td>\n",
       "      <td>0.984368</td>\n",
       "      <td>0.988813</td>\n",
       "      <td>0.993258</td>\n",
       "    </tr>\n",
       "    <tr>\n",
       "      <th>param_C</th>\n",
       "      <td>0.001</td>\n",
       "      <td>0.001</td>\n",
       "      <td>0.001</td>\n",
       "      <td>0.001</td>\n",
       "      <td>0.001</td>\n",
       "      <td>0.001</td>\n",
       "      <td>0.01</td>\n",
       "      <td>0.01</td>\n",
       "      <td>0.01</td>\n",
       "      <td>0.01</td>\n",
       "      <td>...</td>\n",
       "      <td>100</td>\n",
       "      <td>100</td>\n",
       "      <td>100</td>\n",
       "      <td>100</td>\n",
       "      <td>0.001</td>\n",
       "      <td>0.01</td>\n",
       "      <td>0.1</td>\n",
       "      <td>1</td>\n",
       "      <td>10</td>\n",
       "      <td>100</td>\n",
       "    </tr>\n",
       "    <tr>\n",
       "      <th>param_gamma</th>\n",
       "      <td>0.001</td>\n",
       "      <td>0.01</td>\n",
       "      <td>0.1</td>\n",
       "      <td>1</td>\n",
       "      <td>10</td>\n",
       "      <td>100</td>\n",
       "      <td>0.001</td>\n",
       "      <td>0.01</td>\n",
       "      <td>0.1</td>\n",
       "      <td>1</td>\n",
       "      <td>...</td>\n",
       "      <td>0.1</td>\n",
       "      <td>1</td>\n",
       "      <td>10</td>\n",
       "      <td>100</td>\n",
       "      <td>NaN</td>\n",
       "      <td>NaN</td>\n",
       "      <td>NaN</td>\n",
       "      <td>NaN</td>\n",
       "      <td>NaN</td>\n",
       "      <td>NaN</td>\n",
       "    </tr>\n",
       "    <tr>\n",
       "      <th>param_kernel</th>\n",
       "      <td>rbf</td>\n",
       "      <td>rbf</td>\n",
       "      <td>rbf</td>\n",
       "      <td>rbf</td>\n",
       "      <td>rbf</td>\n",
       "      <td>rbf</td>\n",
       "      <td>rbf</td>\n",
       "      <td>rbf</td>\n",
       "      <td>rbf</td>\n",
       "      <td>rbf</td>\n",
       "      <td>...</td>\n",
       "      <td>rbf</td>\n",
       "      <td>rbf</td>\n",
       "      <td>rbf</td>\n",
       "      <td>rbf</td>\n",
       "      <td>linear</td>\n",
       "      <td>linear</td>\n",
       "      <td>linear</td>\n",
       "      <td>linear</td>\n",
       "      <td>linear</td>\n",
       "      <td>linear</td>\n",
       "    </tr>\n",
       "    <tr>\n",
       "      <th>params</th>\n",
       "      <td>{'gamma': 0.001, 'kernel': 'rbf', 'C': 0.001}</td>\n",
       "      <td>{'gamma': 0.01, 'kernel': 'rbf', 'C': 0.001}</td>\n",
       "      <td>{'gamma': 0.1, 'kernel': 'rbf', 'C': 0.001}</td>\n",
       "      <td>{'gamma': 1, 'kernel': 'rbf', 'C': 0.001}</td>\n",
       "      <td>{'gamma': 10, 'kernel': 'rbf', 'C': 0.001}</td>\n",
       "      <td>{'gamma': 100, 'kernel': 'rbf', 'C': 0.001}</td>\n",
       "      <td>{'gamma': 0.001, 'kernel': 'rbf', 'C': 0.01}</td>\n",
       "      <td>{'gamma': 0.01, 'kernel': 'rbf', 'C': 0.01}</td>\n",
       "      <td>{'gamma': 0.1, 'kernel': 'rbf', 'C': 0.01}</td>\n",
       "      <td>{'gamma': 1, 'kernel': 'rbf', 'C': 0.01}</td>\n",
       "      <td>...</td>\n",
       "      <td>{'gamma': 0.1, 'kernel': 'rbf', 'C': 100}</td>\n",
       "      <td>{'gamma': 1, 'kernel': 'rbf', 'C': 100}</td>\n",
       "      <td>{'gamma': 10, 'kernel': 'rbf', 'C': 100}</td>\n",
       "      <td>{'gamma': 100, 'kernel': 'rbf', 'C': 100}</td>\n",
       "      <td>{'kernel': 'linear', 'C': 0.001}</td>\n",
       "      <td>{'kernel': 'linear', 'C': 0.01}</td>\n",
       "      <td>{'kernel': 'linear', 'C': 0.1}</td>\n",
       "      <td>{'kernel': 'linear', 'C': 1}</td>\n",
       "      <td>{'kernel': 'linear', 'C': 10}</td>\n",
       "      <td>{'kernel': 'linear', 'C': 100}</td>\n",
       "    </tr>\n",
       "    <tr>\n",
       "      <th>rank_test_score</th>\n",
       "      <td>27</td>\n",
       "      <td>27</td>\n",
       "      <td>27</td>\n",
       "      <td>27</td>\n",
       "      <td>27</td>\n",
       "      <td>27</td>\n",
       "      <td>27</td>\n",
       "      <td>27</td>\n",
       "      <td>27</td>\n",
       "      <td>27</td>\n",
       "      <td>...</td>\n",
       "      <td>9</td>\n",
       "      <td>11</td>\n",
       "      <td>17</td>\n",
       "      <td>24</td>\n",
       "      <td>27</td>\n",
       "      <td>21</td>\n",
       "      <td>11</td>\n",
       "      <td>1</td>\n",
       "      <td>3</td>\n",
       "      <td>3</td>\n",
       "    </tr>\n",
       "    <tr>\n",
       "      <th>split0_test_score</th>\n",
       "      <td>0.375</td>\n",
       "      <td>0.375</td>\n",
       "      <td>0.375</td>\n",
       "      <td>0.375</td>\n",
       "      <td>0.375</td>\n",
       "      <td>0.375</td>\n",
       "      <td>0.375</td>\n",
       "      <td>0.375</td>\n",
       "      <td>0.375</td>\n",
       "      <td>0.375</td>\n",
       "      <td>...</td>\n",
       "      <td>0.958333</td>\n",
       "      <td>0.916667</td>\n",
       "      <td>0.875</td>\n",
       "      <td>0.541667</td>\n",
       "      <td>0.375</td>\n",
       "      <td>0.916667</td>\n",
       "      <td>0.958333</td>\n",
       "      <td>1</td>\n",
       "      <td>0.958333</td>\n",
       "      <td>0.958333</td>\n",
       "    </tr>\n",
       "    <tr>\n",
       "      <th>split0_train_score</th>\n",
       "      <td>0.363636</td>\n",
       "      <td>0.363636</td>\n",
       "      <td>0.363636</td>\n",
       "      <td>0.363636</td>\n",
       "      <td>0.363636</td>\n",
       "      <td>0.363636</td>\n",
       "      <td>0.363636</td>\n",
       "      <td>0.363636</td>\n",
       "      <td>0.363636</td>\n",
       "      <td>0.363636</td>\n",
       "      <td>...</td>\n",
       "      <td>0.988636</td>\n",
       "      <td>1</td>\n",
       "      <td>1</td>\n",
       "      <td>1</td>\n",
       "      <td>0.363636</td>\n",
       "      <td>0.886364</td>\n",
       "      <td>0.965909</td>\n",
       "      <td>0.988636</td>\n",
       "      <td>0.988636</td>\n",
       "      <td>0.988636</td>\n",
       "    </tr>\n",
       "    <tr>\n",
       "      <th>split1_test_score</th>\n",
       "      <td>0.347826</td>\n",
       "      <td>0.347826</td>\n",
       "      <td>0.347826</td>\n",
       "      <td>0.347826</td>\n",
       "      <td>0.347826</td>\n",
       "      <td>0.347826</td>\n",
       "      <td>0.347826</td>\n",
       "      <td>0.347826</td>\n",
       "      <td>0.347826</td>\n",
       "      <td>0.347826</td>\n",
       "      <td>...</td>\n",
       "      <td>1</td>\n",
       "      <td>1</td>\n",
       "      <td>0.956522</td>\n",
       "      <td>0.478261</td>\n",
       "      <td>0.347826</td>\n",
       "      <td>0.826087</td>\n",
       "      <td>0.913043</td>\n",
       "      <td>0.956522</td>\n",
       "      <td>1</td>\n",
       "      <td>1</td>\n",
       "    </tr>\n",
       "    <tr>\n",
       "      <th>split1_train_score</th>\n",
       "      <td>0.370787</td>\n",
       "      <td>0.370787</td>\n",
       "      <td>0.370787</td>\n",
       "      <td>0.370787</td>\n",
       "      <td>0.370787</td>\n",
       "      <td>0.370787</td>\n",
       "      <td>0.370787</td>\n",
       "      <td>0.370787</td>\n",
       "      <td>0.370787</td>\n",
       "      <td>0.370787</td>\n",
       "      <td>...</td>\n",
       "      <td>0.977528</td>\n",
       "      <td>1</td>\n",
       "      <td>1</td>\n",
       "      <td>1</td>\n",
       "      <td>0.370787</td>\n",
       "      <td>0.88764</td>\n",
       "      <td>0.977528</td>\n",
       "      <td>0.977528</td>\n",
       "      <td>0.988764</td>\n",
       "      <td>0.988764</td>\n",
       "    </tr>\n",
       "    <tr>\n",
       "      <th>split2_test_score</th>\n",
       "      <td>0.363636</td>\n",
       "      <td>0.363636</td>\n",
       "      <td>0.363636</td>\n",
       "      <td>0.363636</td>\n",
       "      <td>0.363636</td>\n",
       "      <td>0.363636</td>\n",
       "      <td>0.363636</td>\n",
       "      <td>0.363636</td>\n",
       "      <td>0.363636</td>\n",
       "      <td>0.363636</td>\n",
       "      <td>...</td>\n",
       "      <td>1</td>\n",
       "      <td>1</td>\n",
       "      <td>1</td>\n",
       "      <td>0.590909</td>\n",
       "      <td>0.363636</td>\n",
       "      <td>0.818182</td>\n",
       "      <td>1</td>\n",
       "      <td>1</td>\n",
       "      <td>1</td>\n",
       "      <td>1</td>\n",
       "    </tr>\n",
       "    <tr>\n",
       "      <th>split2_train_score</th>\n",
       "      <td>0.366667</td>\n",
       "      <td>0.366667</td>\n",
       "      <td>0.366667</td>\n",
       "      <td>0.366667</td>\n",
       "      <td>0.366667</td>\n",
       "      <td>0.366667</td>\n",
       "      <td>0.366667</td>\n",
       "      <td>0.366667</td>\n",
       "      <td>0.366667</td>\n",
       "      <td>0.366667</td>\n",
       "      <td>...</td>\n",
       "      <td>0.977778</td>\n",
       "      <td>1</td>\n",
       "      <td>1</td>\n",
       "      <td>1</td>\n",
       "      <td>0.366667</td>\n",
       "      <td>0.866667</td>\n",
       "      <td>0.944444</td>\n",
       "      <td>0.977778</td>\n",
       "      <td>0.977778</td>\n",
       "      <td>0.988889</td>\n",
       "    </tr>\n",
       "    <tr>\n",
       "      <th>split3_test_score</th>\n",
       "      <td>0.363636</td>\n",
       "      <td>0.363636</td>\n",
       "      <td>0.363636</td>\n",
       "      <td>0.363636</td>\n",
       "      <td>0.363636</td>\n",
       "      <td>0.363636</td>\n",
       "      <td>0.363636</td>\n",
       "      <td>0.363636</td>\n",
       "      <td>0.363636</td>\n",
       "      <td>0.363636</td>\n",
       "      <td>...</td>\n",
       "      <td>0.863636</td>\n",
       "      <td>0.863636</td>\n",
       "      <td>0.818182</td>\n",
       "      <td>0.590909</td>\n",
       "      <td>0.363636</td>\n",
       "      <td>0.772727</td>\n",
       "      <td>0.909091</td>\n",
       "      <td>0.954545</td>\n",
       "      <td>0.909091</td>\n",
       "      <td>0.909091</td>\n",
       "    </tr>\n",
       "    <tr>\n",
       "      <th>split3_train_score</th>\n",
       "      <td>0.366667</td>\n",
       "      <td>0.366667</td>\n",
       "      <td>0.366667</td>\n",
       "      <td>0.366667</td>\n",
       "      <td>0.366667</td>\n",
       "      <td>0.366667</td>\n",
       "      <td>0.366667</td>\n",
       "      <td>0.366667</td>\n",
       "      <td>0.366667</td>\n",
       "      <td>0.366667</td>\n",
       "      <td>...</td>\n",
       "      <td>1</td>\n",
       "      <td>1</td>\n",
       "      <td>1</td>\n",
       "      <td>1</td>\n",
       "      <td>0.366667</td>\n",
       "      <td>0.755556</td>\n",
       "      <td>0.977778</td>\n",
       "      <td>0.988889</td>\n",
       "      <td>0.988889</td>\n",
       "      <td>1</td>\n",
       "    </tr>\n",
       "    <tr>\n",
       "      <th>split4_test_score</th>\n",
       "      <td>0.380952</td>\n",
       "      <td>0.380952</td>\n",
       "      <td>0.380952</td>\n",
       "      <td>0.380952</td>\n",
       "      <td>0.380952</td>\n",
       "      <td>0.380952</td>\n",
       "      <td>0.380952</td>\n",
       "      <td>0.380952</td>\n",
       "      <td>0.380952</td>\n",
       "      <td>0.380952</td>\n",
       "      <td>...</td>\n",
       "      <td>0.952381</td>\n",
       "      <td>0.952381</td>\n",
       "      <td>0.952381</td>\n",
       "      <td>0.619048</td>\n",
       "      <td>0.380952</td>\n",
       "      <td>0.904762</td>\n",
       "      <td>0.952381</td>\n",
       "      <td>0.952381</td>\n",
       "      <td>0.952381</td>\n",
       "      <td>0.952381</td>\n",
       "    </tr>\n",
       "    <tr>\n",
       "      <th>split4_train_score</th>\n",
       "      <td>0.362637</td>\n",
       "      <td>0.362637</td>\n",
       "      <td>0.362637</td>\n",
       "      <td>0.362637</td>\n",
       "      <td>0.362637</td>\n",
       "      <td>0.362637</td>\n",
       "      <td>0.362637</td>\n",
       "      <td>0.362637</td>\n",
       "      <td>0.362637</td>\n",
       "      <td>0.362637</td>\n",
       "      <td>...</td>\n",
       "      <td>1</td>\n",
       "      <td>1</td>\n",
       "      <td>1</td>\n",
       "      <td>1</td>\n",
       "      <td>0.362637</td>\n",
       "      <td>0.879121</td>\n",
       "      <td>0.967033</td>\n",
       "      <td>0.989011</td>\n",
       "      <td>1</td>\n",
       "      <td>1</td>\n",
       "    </tr>\n",
       "    <tr>\n",
       "      <th>std_fit_time</th>\n",
       "      <td>0.00240501</td>\n",
       "      <td>0.000918077</td>\n",
       "      <td>0.000898061</td>\n",
       "      <td>1.88338e-05</td>\n",
       "      <td>9.52076e-06</td>\n",
       "      <td>0.000190837</td>\n",
       "      <td>4.36061e-05</td>\n",
       "      <td>1.43316e-05</td>\n",
       "      <td>1.95497e-05</td>\n",
       "      <td>3.5529e-05</td>\n",
       "      <td>...</td>\n",
       "      <td>1.1287e-05</td>\n",
       "      <td>0.000150837</td>\n",
       "      <td>0.000265352</td>\n",
       "      <td>0.000259522</td>\n",
       "      <td>1.75917e-05</td>\n",
       "      <td>2.42862e-05</td>\n",
       "      <td>1.54258e-05</td>\n",
       "      <td>1.63337e-05</td>\n",
       "      <td>6.63465e-05</td>\n",
       "      <td>5.96857e-05</td>\n",
       "    </tr>\n",
       "    <tr>\n",
       "      <th>std_score_time</th>\n",
       "      <td>0.000325986</td>\n",
       "      <td>0.000550068</td>\n",
       "      <td>0.000427814</td>\n",
       "      <td>1.6287e-05</td>\n",
       "      <td>4.70742e-06</td>\n",
       "      <td>8.57446e-05</td>\n",
       "      <td>2.38191e-05</td>\n",
       "      <td>9.43656e-06</td>\n",
       "      <td>5.20255e-06</td>\n",
       "      <td>1.23625e-05</td>\n",
       "      <td>...</td>\n",
       "      <td>2.32333e-06</td>\n",
       "      <td>3.25996e-05</td>\n",
       "      <td>7.13759e-05</td>\n",
       "      <td>8.12665e-05</td>\n",
       "      <td>3.32222e-05</td>\n",
       "      <td>1.4995e-05</td>\n",
       "      <td>1.31538e-05</td>\n",
       "      <td>1.05023e-05</td>\n",
       "      <td>1.92945e-05</td>\n",
       "      <td>6.49139e-05</td>\n",
       "    </tr>\n",
       "    <tr>\n",
       "      <th>std_test_score</th>\n",
       "      <td>0.0113708</td>\n",
       "      <td>0.0113708</td>\n",
       "      <td>0.0113708</td>\n",
       "      <td>0.0113708</td>\n",
       "      <td>0.0113708</td>\n",
       "      <td>0.0113708</td>\n",
       "      <td>0.0113708</td>\n",
       "      <td>0.0113708</td>\n",
       "      <td>0.0113708</td>\n",
       "      <td>0.0113708</td>\n",
       "      <td>...</td>\n",
       "      <td>0.0495662</td>\n",
       "      <td>0.0519227</td>\n",
       "      <td>0.0647906</td>\n",
       "      <td>0.0496678</td>\n",
       "      <td>0.0113708</td>\n",
       "      <td>0.0547783</td>\n",
       "      <td>0.0332185</td>\n",
       "      <td>0.0223995</td>\n",
       "      <td>0.0338387</td>\n",
       "      <td>0.0338387</td>\n",
       "    </tr>\n",
       "    <tr>\n",
       "      <th>std_train_score</th>\n",
       "      <td>0.00285176</td>\n",
       "      <td>0.00285176</td>\n",
       "      <td>0.00285176</td>\n",
       "      <td>0.00285176</td>\n",
       "      <td>0.00285176</td>\n",
       "      <td>0.00285176</td>\n",
       "      <td>0.00285176</td>\n",
       "      <td>0.00285176</td>\n",
       "      <td>0.00285176</td>\n",
       "      <td>0.00285176</td>\n",
       "      <td>...</td>\n",
       "      <td>0.00999451</td>\n",
       "      <td>0</td>\n",
       "      <td>0</td>\n",
       "      <td>0</td>\n",
       "      <td>0.00285176</td>\n",
       "      <td>0.0503114</td>\n",
       "      <td>0.0121316</td>\n",
       "      <td>0.00548507</td>\n",
       "      <td>0.00702801</td>\n",
       "      <td>0.00550551</td>\n",
       "    </tr>\n",
       "  </tbody>\n",
       "</table>\n",
       "<p>23 rows × 42 columns</p>\n",
       "</div>"
      ],
      "text/plain": [
       "                                                               0   \\\n",
       "mean_fit_time                                          0.00235658   \n",
       "mean_score_time                                       0.000619841   \n",
       "mean_test_score                                          0.366071   \n",
       "mean_train_score                                         0.366079   \n",
       "param_C                                                     0.001   \n",
       "param_gamma                                                 0.001   \n",
       "param_kernel                                                  rbf   \n",
       "params              {'gamma': 0.001, 'kernel': 'rbf', 'C': 0.001}   \n",
       "rank_test_score                                                27   \n",
       "split0_test_score                                           0.375   \n",
       "split0_train_score                                       0.363636   \n",
       "split1_test_score                                        0.347826   \n",
       "split1_train_score                                       0.370787   \n",
       "split2_test_score                                        0.363636   \n",
       "split2_train_score                                       0.366667   \n",
       "split3_test_score                                        0.363636   \n",
       "split3_train_score                                       0.366667   \n",
       "split4_test_score                                        0.380952   \n",
       "split4_train_score                                       0.362637   \n",
       "std_fit_time                                           0.00240501   \n",
       "std_score_time                                        0.000325986   \n",
       "std_test_score                                          0.0113708   \n",
       "std_train_score                                        0.00285176   \n",
       "\n",
       "                                                              1   \\\n",
       "mean_fit_time                                         0.00168166   \n",
       "mean_score_time                                      0.000773621   \n",
       "mean_test_score                                         0.366071   \n",
       "mean_train_score                                        0.366079   \n",
       "param_C                                                    0.001   \n",
       "param_gamma                                                 0.01   \n",
       "param_kernel                                                 rbf   \n",
       "params              {'gamma': 0.01, 'kernel': 'rbf', 'C': 0.001}   \n",
       "rank_test_score                                               27   \n",
       "split0_test_score                                          0.375   \n",
       "split0_train_score                                      0.363636   \n",
       "split1_test_score                                       0.347826   \n",
       "split1_train_score                                      0.370787   \n",
       "split2_test_score                                       0.363636   \n",
       "split2_train_score                                      0.366667   \n",
       "split3_test_score                                       0.363636   \n",
       "split3_train_score                                      0.366667   \n",
       "split4_test_score                                       0.380952   \n",
       "split4_train_score                                      0.362637   \n",
       "std_fit_time                                         0.000918077   \n",
       "std_score_time                                       0.000550068   \n",
       "std_test_score                                         0.0113708   \n",
       "std_train_score                                       0.00285176   \n",
       "\n",
       "                                                             2   \\\n",
       "mean_fit_time                                        0.00213223   \n",
       "mean_score_time                                     0.000954819   \n",
       "mean_test_score                                        0.366071   \n",
       "mean_train_score                                       0.366079   \n",
       "param_C                                                   0.001   \n",
       "param_gamma                                                 0.1   \n",
       "param_kernel                                                rbf   \n",
       "params              {'gamma': 0.1, 'kernel': 'rbf', 'C': 0.001}   \n",
       "rank_test_score                                              27   \n",
       "split0_test_score                                         0.375   \n",
       "split0_train_score                                     0.363636   \n",
       "split1_test_score                                      0.347826   \n",
       "split1_train_score                                     0.370787   \n",
       "split2_test_score                                      0.363636   \n",
       "split2_train_score                                     0.366667   \n",
       "split3_test_score                                      0.363636   \n",
       "split3_train_score                                     0.366667   \n",
       "split4_test_score                                      0.380952   \n",
       "split4_train_score                                     0.362637   \n",
       "std_fit_time                                        0.000898061   \n",
       "std_score_time                                      0.000427814   \n",
       "std_test_score                                        0.0113708   \n",
       "std_train_score                                      0.00285176   \n",
       "\n",
       "                                                           3   \\\n",
       "mean_fit_time                                     0.000602198   \n",
       "mean_score_time                                   0.000236607   \n",
       "mean_test_score                                      0.366071   \n",
       "mean_train_score                                     0.366079   \n",
       "param_C                                                 0.001   \n",
       "param_gamma                                                 1   \n",
       "param_kernel                                              rbf   \n",
       "params              {'gamma': 1, 'kernel': 'rbf', 'C': 0.001}   \n",
       "rank_test_score                                            27   \n",
       "split0_test_score                                       0.375   \n",
       "split0_train_score                                   0.363636   \n",
       "split1_test_score                                    0.347826   \n",
       "split1_train_score                                   0.370787   \n",
       "split2_test_score                                    0.363636   \n",
       "split2_train_score                                   0.366667   \n",
       "split3_test_score                                    0.363636   \n",
       "split3_train_score                                   0.366667   \n",
       "split4_test_score                                    0.380952   \n",
       "split4_train_score                                   0.362637   \n",
       "std_fit_time                                      1.88338e-05   \n",
       "std_score_time                                     1.6287e-05   \n",
       "std_test_score                                      0.0113708   \n",
       "std_train_score                                    0.00285176   \n",
       "\n",
       "                                                            4   \\\n",
       "mean_fit_time                                      0.000619793   \n",
       "mean_score_time                                    0.000224018   \n",
       "mean_test_score                                       0.366071   \n",
       "mean_train_score                                      0.366079   \n",
       "param_C                                                  0.001   \n",
       "param_gamma                                                 10   \n",
       "param_kernel                                               rbf   \n",
       "params              {'gamma': 10, 'kernel': 'rbf', 'C': 0.001}   \n",
       "rank_test_score                                             27   \n",
       "split0_test_score                                        0.375   \n",
       "split0_train_score                                    0.363636   \n",
       "split1_test_score                                     0.347826   \n",
       "split1_train_score                                    0.370787   \n",
       "split2_test_score                                     0.363636   \n",
       "split2_train_score                                    0.366667   \n",
       "split3_test_score                                     0.363636   \n",
       "split3_train_score                                    0.366667   \n",
       "split4_test_score                                     0.380952   \n",
       "split4_train_score                                    0.362637   \n",
       "std_fit_time                                       9.52076e-06   \n",
       "std_score_time                                     4.70742e-06   \n",
       "std_test_score                                       0.0113708   \n",
       "std_train_score                                     0.00285176   \n",
       "\n",
       "                                                             5   \\\n",
       "mean_fit_time                                       0.000767803   \n",
       "mean_score_time                                       0.0003232   \n",
       "mean_test_score                                        0.366071   \n",
       "mean_train_score                                       0.366079   \n",
       "param_C                                                   0.001   \n",
       "param_gamma                                                 100   \n",
       "param_kernel                                                rbf   \n",
       "params              {'gamma': 100, 'kernel': 'rbf', 'C': 0.001}   \n",
       "rank_test_score                                              27   \n",
       "split0_test_score                                         0.375   \n",
       "split0_train_score                                     0.363636   \n",
       "split1_test_score                                      0.347826   \n",
       "split1_train_score                                     0.370787   \n",
       "split2_test_score                                      0.363636   \n",
       "split2_train_score                                     0.366667   \n",
       "split3_test_score                                      0.363636   \n",
       "split3_train_score                                     0.366667   \n",
       "split4_test_score                                      0.380952   \n",
       "split4_train_score                                     0.362637   \n",
       "std_fit_time                                        0.000190837   \n",
       "std_score_time                                      8.57446e-05   \n",
       "std_test_score                                        0.0113708   \n",
       "std_train_score                                      0.00285176   \n",
       "\n",
       "                                                              6   \\\n",
       "mean_fit_time                                        0.000641394   \n",
       "mean_score_time                                      0.000240993   \n",
       "mean_test_score                                         0.366071   \n",
       "mean_train_score                                        0.366079   \n",
       "param_C                                                     0.01   \n",
       "param_gamma                                                0.001   \n",
       "param_kernel                                                 rbf   \n",
       "params              {'gamma': 0.001, 'kernel': 'rbf', 'C': 0.01}   \n",
       "rank_test_score                                               27   \n",
       "split0_test_score                                          0.375   \n",
       "split0_train_score                                      0.363636   \n",
       "split1_test_score                                       0.347826   \n",
       "split1_train_score                                      0.370787   \n",
       "split2_test_score                                       0.363636   \n",
       "split2_train_score                                      0.366667   \n",
       "split3_test_score                                       0.363636   \n",
       "split3_train_score                                      0.366667   \n",
       "split4_test_score                                       0.380952   \n",
       "split4_train_score                                      0.362637   \n",
       "std_fit_time                                         4.36061e-05   \n",
       "std_score_time                                       2.38191e-05   \n",
       "std_test_score                                         0.0113708   \n",
       "std_train_score                                       0.00285176   \n",
       "\n",
       "                                                             7   \\\n",
       "mean_fit_time                                       0.000581789   \n",
       "mean_score_time                                     0.000229549   \n",
       "mean_test_score                                        0.366071   \n",
       "mean_train_score                                       0.366079   \n",
       "param_C                                                    0.01   \n",
       "param_gamma                                                0.01   \n",
       "param_kernel                                                rbf   \n",
       "params              {'gamma': 0.01, 'kernel': 'rbf', 'C': 0.01}   \n",
       "rank_test_score                                              27   \n",
       "split0_test_score                                         0.375   \n",
       "split0_train_score                                     0.363636   \n",
       "split1_test_score                                      0.347826   \n",
       "split1_train_score                                     0.370787   \n",
       "split2_test_score                                      0.363636   \n",
       "split2_train_score                                     0.366667   \n",
       "split3_test_score                                      0.363636   \n",
       "split3_train_score                                     0.366667   \n",
       "split4_test_score                                      0.380952   \n",
       "split4_train_score                                     0.362637   \n",
       "std_fit_time                                        1.43316e-05   \n",
       "std_score_time                                      9.43656e-06   \n",
       "std_test_score                                        0.0113708   \n",
       "std_train_score                                      0.00285176   \n",
       "\n",
       "                                                            8   \\\n",
       "mean_fit_time                                      0.000600576   \n",
       "mean_score_time                                    0.000227022   \n",
       "mean_test_score                                       0.366071   \n",
       "mean_train_score                                      0.366079   \n",
       "param_C                                                   0.01   \n",
       "param_gamma                                                0.1   \n",
       "param_kernel                                               rbf   \n",
       "params              {'gamma': 0.1, 'kernel': 'rbf', 'C': 0.01}   \n",
       "rank_test_score                                             27   \n",
       "split0_test_score                                        0.375   \n",
       "split0_train_score                                    0.363636   \n",
       "split1_test_score                                     0.347826   \n",
       "split1_train_score                                    0.370787   \n",
       "split2_test_score                                     0.363636   \n",
       "split2_train_score                                    0.366667   \n",
       "split3_test_score                                     0.363636   \n",
       "split3_train_score                                    0.366667   \n",
       "split4_test_score                                     0.380952   \n",
       "split4_train_score                                    0.362637   \n",
       "std_fit_time                                       1.95497e-05   \n",
       "std_score_time                                     5.20255e-06   \n",
       "std_test_score                                       0.0113708   \n",
       "std_train_score                                     0.00285176   \n",
       "\n",
       "                                                          9   \\\n",
       "mean_fit_time                                    0.000608206   \n",
       "mean_score_time                                  0.000232601   \n",
       "mean_test_score                                     0.366071   \n",
       "mean_train_score                                    0.366079   \n",
       "param_C                                                 0.01   \n",
       "param_gamma                                                1   \n",
       "param_kernel                                             rbf   \n",
       "params              {'gamma': 1, 'kernel': 'rbf', 'C': 0.01}   \n",
       "rank_test_score                                           27   \n",
       "split0_test_score                                      0.375   \n",
       "split0_train_score                                  0.363636   \n",
       "split1_test_score                                   0.347826   \n",
       "split1_train_score                                  0.370787   \n",
       "split2_test_score                                   0.363636   \n",
       "split2_train_score                                  0.366667   \n",
       "split3_test_score                                   0.363636   \n",
       "split3_train_score                                  0.366667   \n",
       "split4_test_score                                   0.380952   \n",
       "split4_train_score                                  0.362637   \n",
       "std_fit_time                                      3.5529e-05   \n",
       "std_score_time                                   1.23625e-05   \n",
       "std_test_score                                     0.0113708   \n",
       "std_train_score                                   0.00285176   \n",
       "\n",
       "                                 ...                \\\n",
       "mean_fit_time                    ...                 \n",
       "mean_score_time                  ...                 \n",
       "mean_test_score                  ...                 \n",
       "mean_train_score                 ...                 \n",
       "param_C                          ...                 \n",
       "param_gamma                      ...                 \n",
       "param_kernel                     ...                 \n",
       "params                           ...                 \n",
       "rank_test_score                  ...                 \n",
       "split0_test_score                ...                 \n",
       "split0_train_score               ...                 \n",
       "split1_test_score                ...                 \n",
       "split1_train_score               ...                 \n",
       "split2_test_score                ...                 \n",
       "split2_train_score               ...                 \n",
       "split3_test_score                ...                 \n",
       "split3_train_score               ...                 \n",
       "split4_test_score                ...                 \n",
       "split4_train_score               ...                 \n",
       "std_fit_time                     ...                 \n",
       "std_score_time                   ...                 \n",
       "std_test_score                   ...                 \n",
       "std_train_score                  ...                 \n",
       "\n",
       "                                                           32  \\\n",
       "mean_fit_time                                     0.000354767   \n",
       "mean_score_time                                   0.000190067   \n",
       "mean_test_score                                      0.955357   \n",
       "mean_train_score                                     0.988788   \n",
       "param_C                                                   100   \n",
       "param_gamma                                               0.1   \n",
       "param_kernel                                              rbf   \n",
       "params              {'gamma': 0.1, 'kernel': 'rbf', 'C': 100}   \n",
       "rank_test_score                                             9   \n",
       "split0_test_score                                    0.958333   \n",
       "split0_train_score                                   0.988636   \n",
       "split1_test_score                                           1   \n",
       "split1_train_score                                   0.977528   \n",
       "split2_test_score                                           1   \n",
       "split2_train_score                                   0.977778   \n",
       "split3_test_score                                    0.863636   \n",
       "split3_train_score                                          1   \n",
       "split4_test_score                                    0.952381   \n",
       "split4_train_score                                          1   \n",
       "std_fit_time                                       1.1287e-05   \n",
       "std_score_time                                    2.32333e-06   \n",
       "std_test_score                                      0.0495662   \n",
       "std_train_score                                    0.00999451   \n",
       "\n",
       "                                                         33  \\\n",
       "mean_fit_time                                    0.00058136   \n",
       "mean_score_time                                 0.000236607   \n",
       "mean_test_score                                    0.946429   \n",
       "mean_train_score                                          1   \n",
       "param_C                                                 100   \n",
       "param_gamma                                               1   \n",
       "param_kernel                                            rbf   \n",
       "params              {'gamma': 1, 'kernel': 'rbf', 'C': 100}   \n",
       "rank_test_score                                          11   \n",
       "split0_test_score                                  0.916667   \n",
       "split0_train_score                                        1   \n",
       "split1_test_score                                         1   \n",
       "split1_train_score                                        1   \n",
       "split2_test_score                                         1   \n",
       "split2_train_score                                        1   \n",
       "split3_test_score                                  0.863636   \n",
       "split3_train_score                                        1   \n",
       "split4_test_score                                  0.952381   \n",
       "split4_train_score                                        1   \n",
       "std_fit_time                                    0.000150837   \n",
       "std_score_time                                  3.25996e-05   \n",
       "std_test_score                                    0.0519227   \n",
       "std_train_score                                           0   \n",
       "\n",
       "                                                          34  \\\n",
       "mean_fit_time                                     0.00102181   \n",
       "mean_score_time                                  0.000274801   \n",
       "mean_test_score                                     0.919643   \n",
       "mean_train_score                                           1   \n",
       "param_C                                                  100   \n",
       "param_gamma                                               10   \n",
       "param_kernel                                             rbf   \n",
       "params              {'gamma': 10, 'kernel': 'rbf', 'C': 100}   \n",
       "rank_test_score                                           17   \n",
       "split0_test_score                                      0.875   \n",
       "split0_train_score                                         1   \n",
       "split1_test_score                                   0.956522   \n",
       "split1_train_score                                         1   \n",
       "split2_test_score                                          1   \n",
       "split2_train_score                                         1   \n",
       "split3_test_score                                   0.818182   \n",
       "split3_train_score                                         1   \n",
       "split4_test_score                                   0.952381   \n",
       "split4_train_score                                         1   \n",
       "std_fit_time                                     0.000265352   \n",
       "std_score_time                                   7.13759e-05   \n",
       "std_test_score                                     0.0647906   \n",
       "std_train_score                                            0   \n",
       "\n",
       "                                                           35  \\\n",
       "mean_fit_time                                      0.00124817   \n",
       "mean_score_time                                   0.000374651   \n",
       "mean_test_score                                        0.5625   \n",
       "mean_train_score                                            1   \n",
       "param_C                                                   100   \n",
       "param_gamma                                               100   \n",
       "param_kernel                                              rbf   \n",
       "params              {'gamma': 100, 'kernel': 'rbf', 'C': 100}   \n",
       "rank_test_score                                            24   \n",
       "split0_test_score                                    0.541667   \n",
       "split0_train_score                                          1   \n",
       "split1_test_score                                    0.478261   \n",
       "split1_train_score                                          1   \n",
       "split2_test_score                                    0.590909   \n",
       "split2_train_score                                          1   \n",
       "split3_test_score                                    0.590909   \n",
       "split3_train_score                                          1   \n",
       "split4_test_score                                    0.619048   \n",
       "split4_train_score                                          1   \n",
       "std_fit_time                                      0.000259522   \n",
       "std_score_time                                    8.12665e-05   \n",
       "std_test_score                                      0.0496678   \n",
       "std_train_score                                             0   \n",
       "\n",
       "                                                  36  \\\n",
       "mean_fit_time                            0.000542545   \n",
       "mean_score_time                          0.000252247   \n",
       "mean_test_score                             0.366071   \n",
       "mean_train_score                            0.366079   \n",
       "param_C                                        0.001   \n",
       "param_gamma                                      NaN   \n",
       "param_kernel                                  linear   \n",
       "params              {'kernel': 'linear', 'C': 0.001}   \n",
       "rank_test_score                                   27   \n",
       "split0_test_score                              0.375   \n",
       "split0_train_score                          0.363636   \n",
       "split1_test_score                           0.347826   \n",
       "split1_train_score                          0.370787   \n",
       "split2_test_score                           0.363636   \n",
       "split2_train_score                          0.366667   \n",
       "split3_test_score                           0.363636   \n",
       "split3_train_score                          0.366667   \n",
       "split4_test_score                           0.380952   \n",
       "split4_train_score                          0.362637   \n",
       "std_fit_time                             1.75917e-05   \n",
       "std_score_time                           3.32222e-05   \n",
       "std_test_score                             0.0113708   \n",
       "std_train_score                           0.00285176   \n",
       "\n",
       "                                                 37  \\\n",
       "mean_fit_time                           0.000431156   \n",
       "mean_score_time                         0.000208378   \n",
       "mean_test_score                            0.848214   \n",
       "mean_train_score                           0.855069   \n",
       "param_C                                        0.01   \n",
       "param_gamma                                     NaN   \n",
       "param_kernel                                 linear   \n",
       "params              {'kernel': 'linear', 'C': 0.01}   \n",
       "rank_test_score                                  21   \n",
       "split0_test_score                          0.916667   \n",
       "split0_train_score                         0.886364   \n",
       "split1_test_score                          0.826087   \n",
       "split1_train_score                          0.88764   \n",
       "split2_test_score                          0.818182   \n",
       "split2_train_score                         0.866667   \n",
       "split3_test_score                          0.772727   \n",
       "split3_train_score                         0.755556   \n",
       "split4_test_score                          0.904762   \n",
       "split4_train_score                         0.879121   \n",
       "std_fit_time                            2.42862e-05   \n",
       "std_score_time                           1.4995e-05   \n",
       "std_test_score                            0.0547783   \n",
       "std_train_score                           0.0503114   \n",
       "\n",
       "                                                38  \\\n",
       "mean_fit_time                          0.000355768   \n",
       "mean_score_time                        0.000203466   \n",
       "mean_test_score                           0.946429   \n",
       "mean_train_score                          0.966538   \n",
       "param_C                                        0.1   \n",
       "param_gamma                                    NaN   \n",
       "param_kernel                                linear   \n",
       "params              {'kernel': 'linear', 'C': 0.1}   \n",
       "rank_test_score                                 11   \n",
       "split0_test_score                         0.958333   \n",
       "split0_train_score                        0.965909   \n",
       "split1_test_score                         0.913043   \n",
       "split1_train_score                        0.977528   \n",
       "split2_test_score                                1   \n",
       "split2_train_score                        0.944444   \n",
       "split3_test_score                         0.909091   \n",
       "split3_train_score                        0.977778   \n",
       "split4_test_score                         0.952381   \n",
       "split4_train_score                        0.967033   \n",
       "std_fit_time                           1.54258e-05   \n",
       "std_score_time                         1.31538e-05   \n",
       "std_test_score                           0.0332185   \n",
       "std_train_score                          0.0121316   \n",
       "\n",
       "                                              39  \\\n",
       "mean_fit_time                        0.000337982   \n",
       "mean_score_time                      0.000191212   \n",
       "mean_test_score                         0.973214   \n",
       "mean_train_score                        0.984368   \n",
       "param_C                                        1   \n",
       "param_gamma                                  NaN   \n",
       "param_kernel                              linear   \n",
       "params              {'kernel': 'linear', 'C': 1}   \n",
       "rank_test_score                                1   \n",
       "split0_test_score                              1   \n",
       "split0_train_score                      0.988636   \n",
       "split1_test_score                       0.956522   \n",
       "split1_train_score                      0.977528   \n",
       "split2_test_score                              1   \n",
       "split2_train_score                      0.977778   \n",
       "split3_test_score                       0.954545   \n",
       "split3_train_score                      0.988889   \n",
       "split4_test_score                       0.952381   \n",
       "split4_train_score                      0.989011   \n",
       "std_fit_time                         1.63337e-05   \n",
       "std_score_time                       1.05023e-05   \n",
       "std_test_score                         0.0223995   \n",
       "std_train_score                       0.00548507   \n",
       "\n",
       "                                               40  \\\n",
       "mean_fit_time                         0.000378275   \n",
       "mean_score_time                       0.000198126   \n",
       "mean_test_score                          0.964286   \n",
       "mean_train_score                         0.988813   \n",
       "param_C                                        10   \n",
       "param_gamma                                   NaN   \n",
       "param_kernel                               linear   \n",
       "params              {'kernel': 'linear', 'C': 10}   \n",
       "rank_test_score                                 3   \n",
       "split0_test_score                        0.958333   \n",
       "split0_train_score                       0.988636   \n",
       "split1_test_score                               1   \n",
       "split1_train_score                       0.988764   \n",
       "split2_test_score                               1   \n",
       "split2_train_score                       0.977778   \n",
       "split3_test_score                        0.909091   \n",
       "split3_train_score                       0.988889   \n",
       "split4_test_score                        0.952381   \n",
       "split4_train_score                              1   \n",
       "std_fit_time                          6.63465e-05   \n",
       "std_score_time                        1.92945e-05   \n",
       "std_test_score                          0.0338387   \n",
       "std_train_score                        0.00702801   \n",
       "\n",
       "                                                41  \n",
       "mean_fit_time                          0.000432014  \n",
       "mean_score_time                        0.000251961  \n",
       "mean_test_score                           0.964286  \n",
       "mean_train_score                          0.993258  \n",
       "param_C                                        100  \n",
       "param_gamma                                    NaN  \n",
       "param_kernel                                linear  \n",
       "params              {'kernel': 'linear', 'C': 100}  \n",
       "rank_test_score                                  3  \n",
       "split0_test_score                         0.958333  \n",
       "split0_train_score                        0.988636  \n",
       "split1_test_score                                1  \n",
       "split1_train_score                        0.988764  \n",
       "split2_test_score                                1  \n",
       "split2_train_score                        0.988889  \n",
       "split3_test_score                         0.909091  \n",
       "split3_train_score                               1  \n",
       "split4_test_score                         0.952381  \n",
       "split4_train_score                               1  \n",
       "std_fit_time                           5.96857e-05  \n",
       "std_score_time                         6.49139e-05  \n",
       "std_test_score                           0.0338387  \n",
       "std_train_score                         0.00550551  \n",
       "\n",
       "[23 rows x 42 columns]"
      ]
     },
     "execution_count": 34,
     "metadata": {},
     "output_type": "execute_result"
    }
   ],
   "source": [
    "results = pd.DataFrame(grid_search.cv_results_)\n",
    "results.T"
   ]
  },
  {
   "cell_type": "markdown",
   "metadata": {},
   "source": [
    "### A final note about parallelization\n",
    "cross_val_score and GridSearchCV can be parallelized using **n_jobs**, but that parallelism fails on estimators like randomforest, which itself is parallelized.<br>\n",
    "Monitor memory usage on large datasets!\n",
    "\n",
    "Look into spark-sklearn"
   ]
  },
  {
   "cell_type": "markdown",
   "metadata": {},
   "source": [
    "## Evaluation Metrics and Scoring"
   ]
  },
  {
   "cell_type": "markdown",
   "metadata": {},
   "source": [
    "_Imbalanced datasets_ containe one class much more frequently than the other, causing accuracy to be a non-trustworthy metric.<br>\n",
    "Is the digit 9?"
   ]
  },
  {
   "cell_type": "code",
   "execution_count": 39,
   "metadata": {
    "collapsed": false
   },
   "outputs": [],
   "source": [
    "from sklearn.datasets import load_digits\n",
    "\n",
    "digits = load_digits()\n",
    "y = digits.target == 9\n",
    "\n",
    "X_train, X_test, y_train, y_test = train_test_split(\n",
    "    digits.data, y, random_state=0)"
   ]
  },
  {
   "cell_type": "code",
   "execution_count": 44,
   "metadata": {
    "collapsed": false
   },
   "outputs": [
    {
     "name": "stdout",
     "output_type": "stream",
     "text": [
      "Unique predicted labels: [False]\n",
      "Test score: 0.90\n"
     ]
    }
   ],
   "source": [
    "from sklearn.dummy import DummyClassifier\n",
    "# always guess not 9\n",
    "dummy_majority = DummyClassifier(strategy='most_frequent').fit(X_train, y_train)\n",
    "pred_most_frequent = dummy_majority.predict(X_test)\n",
    "\n",
    "print(\"Unique predicted labels: {}\".format(np.unique(pred_most_frequent)))\n",
    "print(\"Test score: {:.2f}\".format(dummy_majority.score(X_test, y_test)))"
   ]
  },
  {
   "cell_type": "code",
   "execution_count": 46,
   "metadata": {
    "collapsed": false
   },
   "outputs": [
    {
     "name": "stdout",
     "output_type": "stream",
     "text": [
      "Test score: 0.92\n"
     ]
    }
   ],
   "source": [
    "from sklearn.tree import DecisionTreeClassifier\n",
    "tree = DecisionTreeClassifier(max_depth=2).fit(X_train, y_train)\n",
    "pred_tree = tree.predict(X_test)\n",
    "print(\"Test score: {:.2f}\".format(tree.score(X_test, y_test)))"
   ]
  },
  {
   "cell_type": "code",
   "execution_count": 47,
   "metadata": {
    "collapsed": false
   },
   "outputs": [
    {
     "name": "stdout",
     "output_type": "stream",
     "text": [
      "dummy score: 0.8111111111111111\n",
      "logreg score: 0.9777777777777777\n"
     ]
    }
   ],
   "source": [
    "from sklearn.linear_model import LogisticRegression\n",
    "dummy = DummyClassifier().fit(X_train, y_train)\n",
    "pred_dummy = dummy.predict(X_test)\n",
    "print(\"dummy score: {}\".format(dummy.score(X_test, y_test)))\n",
    "\n",
    "logreg = LogisticRegression(C=0.1).fit(X_train, y_train)\n",
    "pred_logreg = logreg.predict(X_test)\n",
    "print(\"logreg score: {}\".format(logreg.score(X_test, y_test)))"
   ]
  },
  {
   "cell_type": "markdown",
   "metadata": {},
   "source": [
    "### Confusion Matrices\n"
   ]
  },
  {
   "cell_type": "code",
   "execution_count": 50,
   "metadata": {
    "collapsed": false
   },
   "outputs": [
    {
     "data": {
      "text/plain": [
       "array([[401,   2],\n",
       "       [  8,  39]])"
      ]
     },
     "execution_count": 50,
     "metadata": {},
     "output_type": "execute_result"
    }
   ],
   "source": [
    "from sklearn.metrics import confusion_matrix\n",
    "\n",
    "confusion = confusion_matrix(y_test, pred_logreg)\n",
    "confusion"
   ]
  },
  {
   "cell_type": "code",
   "execution_count": 51,
   "metadata": {
    "collapsed": false
   },
   "outputs": [
    {
     "data": {
      "image/png": "[encoded data removed]",
      "text/plain": [
       "<matplotlib.figure.Figure at 0x118b8a9e8>"
      ]
     },
     "metadata": {},
     "output_type": "display_data"
    }
   ],
   "source": [
    "mglearn.plots.plot_confusion_matrix_illustration()"
   ]
  },
  {
   "cell_type": "code",
   "execution_count": 52,
   "metadata": {
    "collapsed": false
   },
   "outputs": [
    {
     "data": {
      "image/png": "[encoded data removed]",
      "text/plain": [
       "<matplotlib.figure.Figure at 0x119045cc0>"
      ]
     },
     "metadata": {},
     "output_type": "display_data"
    }
   ],
   "source": [
    "mglearn.plots.plot_binary_confusion_matrix()"
   ]
  },
  {
   "cell_type": "code",
   "execution_count": 54,
   "metadata": {
    "collapsed": false
   },
   "outputs": [
    {
     "name": "stdout",
     "output_type": "stream",
     "text": [
      "Most frequent class:\n",
      "[[403   0]\n",
      " [ 47   0]]\n",
      "\n",
      "Dummy model:\n",
      "[[375  28]\n",
      " [ 46   1]]\n",
      "\n",
      "Decision Tree:\n",
      "[[390  13]\n",
      " [ 24  23]]\n",
      "\n",
      "Logistic Regression:\n",
      "[[401   2]\n",
      " [  8  39]]\n"
     ]
    }
   ],
   "source": [
    "print(\"Most frequent class:\")\n",
    "print(confusion_matrix(y_test, pred_most_frequent))\n",
    "print(\"\\nDummy model:\")\n",
    "print(confusion_matrix(y_test, pred_dummy))\n",
    "print(\"\\nDecision Tree:\")\n",
    "print(confusion_matrix(y_test, pred_tree))\n",
    "print(\"\\nLogistic Regression:\")\n",
    "print(confusion_matrix(y_test, pred_logreg))"
   ]
  },
  {
   "cell_type": "code",
   "execution_count": null,
   "metadata": {
    "collapsed": true
   },
   "outputs": [],
   "source": []
  }
 ],
 "metadata": {
  "kernelspec": {
   "display_name": "Python 3",
   "language": "python",
   "name": "python3"
  },
  "language_info": {
   "codemirror_mode": {
    "name": "ipython",
    "version": 3
   },
   "file_extension": ".py",
   "mimetype": "text/x-python",
   "name": "python",
   "nbconvert_exporter": "python",
   "pygments_lexer": "ipython3",
   "version": "3.5.2"
  }
 },
 "nbformat": 4,
 "nbformat_minor": 0
}
